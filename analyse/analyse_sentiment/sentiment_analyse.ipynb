{
 "cells": [
  {
   "cell_type": "markdown",
   "metadata": {},
   "source": [
    "## TEST"
   ]
  },
  {
   "cell_type": "code",
   "execution_count": null,
   "metadata": {},
   "outputs": [],
   "source": [
    "from transformers import pipeline\n",
    "sentiment_pipeline = pipeline(\"sentiment-analysis\")\n",
    "data = [\"I love you\", \"I hate you\"]\n",
    "sentiment_pipeline(data)"
   ]
  },
  {
   "cell_type": "code",
   "execution_count": 2,
   "metadata": {},
   "outputs": [
    {
     "name": "stderr",
     "output_type": "stream",
     "text": [
      "Device set to use cpu\n"
     ]
    },
    {
     "name": "stdout",
     "output_type": "stream",
     "text": [
      "Texte : Je deteste ce cours, il est totalement inutile !\n",
      "Sentiment : 1 star, score : 0.89\n",
      "\n",
      "Texte : This course is amazing and very helpful!\n",
      "Sentiment : 5 stars, score : 0.90\n",
      "\n",
      "Texte : Este curso es terrible y aburrido.\n",
      "Sentiment : 1 star, score : 0.81\n",
      "\n"
     ]
    }
   ],
   "source": [
    "from transformers import AutoTokenizer, AutoModelForSequenceClassification\n",
    "from transformers import pipeline\n",
    "import torch\n",
    "\n",
    "# Charger le modèle multilingue (prend en charge français, anglais, etc.)\n",
    "model_name = \"nlptown/bert-base-multilingual-uncased-sentiment\"\n",
    "\n",
    "tokenizer = AutoTokenizer.from_pretrained(model_name)\n",
    "model = AutoModelForSequenceClassification.from_pretrained(model_name)\n",
    "\n",
    "# Pipeline d’analyse de sentiment\n",
    "sentiment_pipeline = pipeline(\"sentiment-analysis\", model=model, tokenizer=tokenizer)\n",
    "\n",
    "# Exemple de texte en plusieurs langues\n",
    "texts = [\n",
    "    \"Je deteste ce cours, il est totalement inutile !\",        # Français\n",
    "    \"This course is amazing and very helpful!\",     # Anglais\n",
    "    \"Este curso es terrible y aburrido.\"            # Espagnol\n",
    "]\n",
    "\n",
    "# Analyse\n",
    "results = sentiment_pipeline(texts)\n",
    "\n",
    "# Affichage des résultats\n",
    "for text, result in zip(texts, results):\n",
    "    print(f\"Texte : {text}\")\n",
    "    print(f\"Sentiment : {result['label']}, score : {result['score']:.2f}\")\n",
    "    print()\n"
   ]
  },
  {
   "cell_type": "markdown",
   "metadata": {},
   "source": [
    "\"tabularisai/multilingual-sentiment-analysis\""
   ]
  }
 ],
 "metadata": {
  "kernelspec": {
   "display_name": "mooc",
   "language": "python",
   "name": "python3"
  },
  "language_info": {
   "codemirror_mode": {
    "name": "ipython",
    "version": 3
   },
   "file_extension": ".py",
   "mimetype": "text/x-python",
   "name": "python",
   "nbconvert_exporter": "python",
   "pygments_lexer": "ipython3",
   "version": "3.12.10"
  }
 },
 "nbformat": 4,
 "nbformat_minor": 2
}
