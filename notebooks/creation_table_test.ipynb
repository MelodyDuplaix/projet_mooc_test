{
 "cells": [
  {
   "cell_type": "code",
   "execution_count": 1,
   "metadata": {},
   "outputs": [],
   "source": [
    "import psycopg2"
   ]
  },
  {
   "cell_type": "code",
   "execution_count": null,
   "metadata": {},
   "outputs": [
    {
     "name": "stdout",
     "output_type": "stream",
     "text": [
      "Connexion à PostgreSQL réussie\n"
     ]
    }
   ],
   "source": [
    "DB_HOST = \"localhost\"\n",
    "DB_PORT = \"5442\"\n",
    "DB_USER = \"g1\"\n",
    "DB_PASSWORD = \"qsfdqsdqsdqsdqa\"\n",
    "DB_NAME = \"g1\"\n",
    "\n",
    "# Étape 1: Connexion à PostgreSQL\n",
    "try:\n",
    "    # Connexion à la base de données par défaut\n",
    "    conn = psycopg2.connect(\n",
    "        host=DB_HOST,\n",
    "        port=DB_PORT,\n",
    "        user=DB_USER,\n",
    "        password=DB_PASSWORD,\n",
    "        database=DB_NAME\n",
    "    )\n",
    "    conn.autocommit = True\n",
    "    cursor = conn.cursor()\n",
    "    cursor.execute(\"Create table embedding (id integer)\")\n",
    "    print(\"Connexion à PostgreSQL réussie\")\n",
    "except Exception as e:\n",
    "    print(f\"Erreur lors de la connexion à PostgreSQL: {e}\")"
   ]
  },
  {
   "cell_type": "markdown",
   "metadata": {},
   "source": [
    "## Verification des tables"
   ]
  },
  {
   "cell_type": "code",
   "execution_count": 2,
   "metadata": {},
   "outputs": [
    {
     "name": "stdout",
     "output_type": "stream",
     "text": [
      "1. Nombre de lignes avec thread_id NULL :\n",
      "0\n",
      "\n",
      "2. Nombre de ces id présents dans backup.threads (donc threads initiaux) :\n",
      "0\n",
      "\n",
      "3. Nombre de ces id qui apparaissent comme thread_id ailleurs (donc racines de threads) :\n",
      "0\n",
      "\n",
      "4. Y a-t-il des id avec thread_id NULL qui ne sont pas dans backup.threads ? (doit être 0)\n",
      "0\n"
     ]
    }
   ],
   "source": [
    "import psycopg2\n",
    "\n",
    "# Paramètres de connexion à adapter\n",
    "# Connexion à la base PostgreSQL\n",
    "conn = psycopg2.connect(\n",
    "    dbname=\"vectordb\",\n",
    "    user=\"postgres\",         # Remplace par ton utilisateur\n",
    "    password=\"postgres\", # Remplace par ton mot de passe\n",
    "    host=\"localhost\",\n",
    "    port=5432\n",
    ")\n",
    "cur = conn.cursor()\n",
    "\n",
    "print(\"1. Nombre de lignes avec thread_id NULL :\")\n",
    "cur.execute(\"SELECT COUNT(*) FROM backup.embedding WHERE thread_id IS NULL;\")\n",
    "print(cur.fetchone()[0])\n",
    "\n",
    "print(\"\\n2. Nombre de ces id présents dans backup.threads (donc threads initiaux) :\")\n",
    "cur.execute(\"\"\"\n",
    "SELECT COUNT(*)\n",
    "FROM backup.embedding e\n",
    "LEFT JOIN backup.threads t ON e.id = t.id\n",
    "WHERE e.thread_id IS NULL AND t.id IS NOT NULL;\n",
    "\"\"\")\n",
    "print(cur.fetchone()[0])\n",
    "\n",
    "print(\"\\n3. Nombre de ces id qui apparaissent comme thread_id ailleurs (donc racines de threads) :\")\n",
    "cur.execute(\"\"\"\n",
    "SELECT COUNT(*)\n",
    "FROM backup.embedding e\n",
    "WHERE e.thread_id IS NULL\n",
    "  AND EXISTS (\n",
    "      SELECT 1 FROM backup.embedding x WHERE x.thread_id = e.id\n",
    "  );\n",
    "\"\"\")\n",
    "print(cur.fetchone()[0])\n",
    "\n",
    "print(\"\\n4. Y a-t-il des id avec thread_id NULL qui ne sont pas dans backup.threads ? (doit être 0)\")\n",
    "cur.execute(\"\"\"\n",
    "SELECT COUNT(*)\n",
    "FROM backup.embedding e\n",
    "LEFT JOIN backup.threads t ON e.id = t.id\n",
    "WHERE e.thread_id IS NULL AND t.id IS NULL;\n",
    "\"\"\")\n",
    "print(cur.fetchone()[0])\n",
    "\n",
    "cur.close()\n",
    "conn.close()"
   ]
  }
 ],
 "metadata": {
  "kernelspec": {
   "display_name": "mooc",
   "language": "python",
   "name": "python3"
  },
  "language_info": {
   "codemirror_mode": {
    "name": "ipython",
    "version": 3
   },
   "file_extension": ".py",
   "mimetype": "text/x-python",
   "name": "python",
   "nbconvert_exporter": "python",
   "pygments_lexer": "ipython3",
   "version": "3.12.10"
  }
 },
 "nbformat": 4,
 "nbformat_minor": 2
}
