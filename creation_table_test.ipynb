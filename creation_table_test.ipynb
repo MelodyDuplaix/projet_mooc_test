{
 "cells": [
  {
   "cell_type": "code",
   "execution_count": 1,
   "metadata": {},
   "outputs": [],
   "source": [
    "import psycopg2"
   ]
  },
  {
   "cell_type": "code",
   "execution_count": null,
   "metadata": {},
   "outputs": [
    {
     "name": "stdout",
     "output_type": "stream",
     "text": [
      "Connexion à PostgreSQL réussie\n"
     ]
    }
   ],
   "source": [
    "DB_HOST = \"localhost\"\n",
    "DB_PORT = \"5442\"\n",
    "DB_USER = \"g1\"\n",
    "DB_PASSWORD = \"qsfdqsdqsdqsdqa\"\n",
    "DB_NAME = \"g1\"\n",
    "\n",
    "# Étape 1: Connexion à PostgreSQL\n",
    "try:\n",
    "    # Connexion à la base de données par défaut\n",
    "    conn = psycopg2.connect(\n",
    "        host=DB_HOST,\n",
    "        port=DB_PORT,\n",
    "        user=DB_USER,\n",
    "        password=DB_PASSWORD,\n",
    "        database=DB_NAME\n",
    "    )\n",
    "    conn.autocommit = True\n",
    "    cursor = conn.cursor()\n",
    "    cursor.execute(\"Create table embedding (id integer)\")\n",
    "    print(\"Connexion à PostgreSQL réussie\")\n",
    "except Exception as e:\n",
    "    print(f\"Erreur lors de la connexion à PostgreSQL: {e}\")"
   ]
  }
 ],
 "metadata": {
  "kernelspec": {
   "display_name": "mooc",
   "language": "python",
   "name": "python3"
  },
  "language_info": {
   "codemirror_mode": {
    "name": "ipython",
    "version": 3
   },
   "file_extension": ".py",
   "mimetype": "text/x-python",
   "name": "python",
   "nbconvert_exporter": "python",
   "pygments_lexer": "ipython3",
   "version": "3.12.10"
  }
 },
 "nbformat": 4,
 "nbformat_minor": 2
}
